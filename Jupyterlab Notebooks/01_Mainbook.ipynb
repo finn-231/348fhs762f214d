{
 "cells": [
  {
   "cell_type": "code",
   "execution_count": 15,
   "id": "28bc24b9-ff0b-4ca9-a8a9-11261c392e17",
   "metadata": {
    "tags": []
   },
   "outputs": [
    {
     "name": "stdout",
     "output_type": "stream",
     "text": [
      "Welcome!\n"
     ]
    }
   ],
   "source": [
    "print(\"Welcome!\")"
   ]
  },
  {
   "cell_type": "code",
   "execution_count": 17,
   "id": "f64cd172-f06c-42e2-8b6b-8a992fc99ed9",
   "metadata": {
    "tags": []
   },
   "outputs": [],
   "source": [
    "# This will be the main page on where our collection of important stuff will go"
   ]
  },
  {
   "cell_type": "code",
   "execution_count": null,
   "id": "c5bdafc9-1161-4277-a8d6-8fb480d27001",
   "metadata": {},
   "outputs": [],
   "source": []
  }
 ],
 "metadata": {
  "kernelspec": {
   "display_name": "Python 3 (ipykernel)",
   "language": "python",
   "name": "python3"
  },
  "language_info": {
   "codemirror_mode": {
    "name": "ipython",
    "version": 3
   },
   "file_extension": ".py",
   "mimetype": "text/x-python",
   "name": "python",
   "nbconvert_exporter": "python",
   "pygments_lexer": "ipython3",
   "version": "3.11.2"
  }
 },
 "nbformat": 4,
 "nbformat_minor": 5
}
